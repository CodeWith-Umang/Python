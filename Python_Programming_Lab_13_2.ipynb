{
  "cells": [
    {
      "cell_type": "markdown",
      "metadata": {
        "id": "m8U9dsetUPWu"
      },
      "source": [
        "<a href='https://www.darshan.ac.in/'> <img src='https://www.darshan.ac.in/Content/media/DU_Logo.svg' width=\"250\" height=\"300\"/></a>\n",
        "<pre>\n",
        "<center><b><h1>Python Programming - 2301CS404</h1></b></center>\n",
        "<center><b><h1>Lab - 13</b></center>  \n",
        "<center><b>Name: Ukani Umang | Enrollment: 24010101700 | Date: 10-03-2025</b></center>  \n",
        "<pre>"
      ]
    },
    {
      "cell_type": "markdown",
      "metadata": {
        "id": "DVW8msn3UPWw"
      },
      "source": [
        "## Continued.."
      ]
    },
    {
      "cell_type": "markdown",
      "metadata": {
        "id": "1RuJ2H1XUPWx"
      },
      "source": [
        "### 10) Calculate area of a ractangle using object as an argument to a method."
      ]
    },
    {
      "cell_type": "code",
      "execution_count": null,
      "metadata": {
        "id": "9ah7_zJmUPWx",
        "colab": {
          "base_uri": "https://localhost:8080/"
        },
        "outputId": "8259a540-a6b6-4623-f02b-6d1b1c5a705f"
      },
      "outputs": [
        {
          "output_type": "stream",
          "name": "stdout",
          "text": [
            "Area of Rectange is:  200\n"
          ]
        }
      ],
      "source": [
        "class Area:\n",
        "  def __init__(self, length, width):\n",
        "    self.Length = length\n",
        "    self.Width = width\n",
        "\n",
        "  def areaOfRectangle(self):\n",
        "    ans = self.Length * self.Width\n",
        "    print(\"Area of Rectange is: \", ans)\n",
        "\n",
        "a1 = Area(10, 20)\n",
        "a1.areaOfRectangle()"
      ]
    },
    {
      "cell_type": "code",
      "source": [],
      "metadata": {
        "id": "sutlgm6TVuPH"
      },
      "execution_count": null,
      "outputs": []
    },
    {
      "cell_type": "code",
      "execution_count": null,
      "metadata": {
        "id": "UFP-2OLMUPWy"
      },
      "outputs": [],
      "source": [
        "class Square:\n",
        "    def __init__(self, side):\n",
        "        self.side = side\n",
        "\n",
        "    def area(self):\n",
        "        ans = self.side * self.side\n",
        "        self.output(ans)\n",
        "\n",
        "    def output(self, ans):\n",
        "        print(\"Area of Square is:\", ans)\n",
        "\n",
        "s1 = Square(5)\n",
        "s1.area()\n"
      ]
    },
    {
      "cell_type": "markdown",
      "metadata": {
        "id": "1lfx7zvEUPWy"
      },
      "source": [
        "### 12) Calculate the area of a rectangle.\n",
        "### Include a Constructor, a method to calculate area named area() and a method named output() that prints the output and is invoked by area().\n",
        "### Also define a class method that compares the two sides of reactangle. An object is instantiated only if the two sides are different; otherwise a message should be displayed : THIS IS SQUARE."
      ]
    },
    {
      "cell_type": "code",
      "execution_count": null,
      "metadata": {
        "id": "X3r4zEALUPWy",
        "colab": {
          "base_uri": "https://localhost:8080/"
        },
        "outputId": "00769dd5-d1a1-4f7c-ca0c-ddf33c878d99"
      },
      "outputs": [
        {
          "output_type": "stream",
          "name": "stdout",
          "text": [
            "900\n"
          ]
        }
      ],
      "source": [
        "class Rectangle:\n",
        "  def __init__(self, l, w):\n",
        "    self.l = w\n",
        "    self.w = l\n",
        "\n",
        "  @classmethod\n",
        "  def isSquare(self, l, w):\n",
        "    if(l == w):\n",
        "      print(\"This is Square\")\n",
        "      return None\n",
        "    else:\n",
        "      return Rectangle(l, w)\n",
        "\n",
        "  def Output(self):\n",
        "    return self.l * self.w\n",
        "\n",
        "r1 = Rectangle.isSquare(90, 10)\n",
        "if r1:\n",
        "  print(r1.Output())\n"
      ]
    },
    {
      "cell_type": "markdown",
      "metadata": {
        "id": "94Oc2m0xUPWy"
      },
      "source": [
        "### 13) Define a class Square having a private attribute \"side\".\n",
        "### Implement get_side and set_side methods to accees the private attribute from outside of the class."
      ]
    },
    {
      "cell_type": "code",
      "execution_count": null,
      "metadata": {
        "id": "HHKo_XARUPWz",
        "colab": {
          "base_uri": "https://localhost:8080/"
        },
        "outputId": "2c7be430-c99b-4cf3-b43a-5334e191aa41"
      },
      "outputs": [
        {
          "output_type": "stream",
          "name": "stdout",
          "text": [
            "Name: Umang\n",
            "Salary: 100000\n",
            "Bonus: 10000\n"
          ]
        }
      ],
      "source": [
        "class Employee:\n",
        "    def __init__(self, name, salary, bonus = 0):\n",
        "        self.name = name\n",
        "        self.salary = salary\n",
        "        self.__bonus = bonus\n",
        "\n",
        "    def get_bonus(self):\n",
        "        return self.__bonus\n",
        "\n",
        "    def set_bonus(self, bonus):\n",
        "        self.__bonus = bonus\n",
        "\n",
        "    def display(self):\n",
        "        print(f\"Name: {self.name}\")\n",
        "        print(f\"Salary: {self.salary}\")\n",
        "        print(f\"Bonus: {self.__bonus}\")\n",
        "\n",
        "e1 = Employee(\"Umang\", 100000, 10000)\n",
        "e1.display()\n"
      ]
    },
    {
      "cell_type": "markdown",
      "metadata": {
        "id": "LH8k1CsfUPWz"
      },
      "source": [
        "### 14) Create a class Profit that has a method named getProfit that accepts profit from the user.\n",
        "### Create a class Loss that has a method named getLoss that accepts loss from the user.\n",
        "### Create a class BalanceSheet that inherits from both classes Profit and Loss and calculates the balanace. It has two methods getBalance() and printBalance()."
      ]
    },
    {
      "cell_type": "code",
      "execution_count": null,
      "metadata": {
        "id": "K2647iiJUPWz",
        "colab": {
          "base_uri": "https://localhost:8080/"
        },
        "outputId": "196c7498-78b9-4348-d080-f26d8be81dcb"
      },
      "outputs": [
        {
          "output_type": "stream",
          "name": "stdout",
          "text": [
            "Enter Profit: 12\n",
            "Enter Loss: 10\n",
            "balance is:  2\n"
          ]
        }
      ],
      "source": [
        "class Profit:\n",
        "  def getProfit(self):\n",
        "    self.profit = int(input(\"Enter Profit: \"))\n",
        "\n",
        "class Loss:\n",
        "  def getLoss(self):\n",
        "    self.loss = int(input(\"Enter Loss: \"))\n",
        "\n",
        "class BalanceSheet(Profit, Loss):\n",
        "  def getBalance(self):\n",
        "    self.balance = self.profit - self.loss\n",
        "\n",
        "  def PrintBalance(self):\n",
        "    print(\"balance is: \", self.balance)\n",
        "\n",
        "b1 = BalanceSheet()\n",
        "b1.getProfit()\n",
        "b1.getLoss()\n",
        "b1.getBalance()\n",
        "b1.PrintBalance()"
      ]
    },
    {
      "cell_type": "markdown",
      "metadata": {
        "id": "kXrsBaD2UPWz"
      },
      "source": [
        "### 15) WAP to demonstrate all types of inheritance."
      ]
    },
    {
      "cell_type": "code",
      "execution_count": null,
      "metadata": {
        "id": "pts-tlEAUPWz",
        "colab": {
          "base_uri": "https://localhost:8080/"
        },
        "outputId": "1740d696-fc72-4287-dad3-c19e55efa81e"
      },
      "outputs": [
        {
          "output_type": "stream",
          "name": "stdout",
          "text": [
            "Single Inheritance:\n",
            "class A\n",
            "class B\n",
            "Multiple Inheritance:\n",
            "class A\n",
            "class B\n",
            "Method C from class C\n",
            "Method D from class D\n",
            "Multilevel Inheritance:\n",
            "class A\n",
            "class B\n",
            "Method C from class C\n",
            "Method D from class D\n",
            "Method E from class E\n",
            "Hierarchical Inheritance:\n",
            "class A\n",
            "Method F from class F\n"
          ]
        }
      ],
      "source": [
        "# Single\n",
        "class A:\n",
        "    def methodA(self):\n",
        "        print(\"class A\")\n",
        "\n",
        "class B(A):\n",
        "    def methodB(self):\n",
        "        print(\"class B\")\n",
        "\n",
        "print(\"Single Inheritance:\")\n",
        "b = B()\n",
        "b.methodA()\n",
        "b.methodB()\n",
        "\n",
        "\n",
        "# Multiple\n",
        "class C:\n",
        "    def methodC(self):\n",
        "        print(\"Method C from class C\")\n",
        "\n",
        "class D(B, C):\n",
        "    def methodD(self):\n",
        "        print(\"Method D from class D\")\n",
        "\n",
        "print(\"Multiple Inheritance:\")\n",
        "d = D()\n",
        "d.methodA()\n",
        "d.methodB()\n",
        "d.methodC()\n",
        "d.methodD()\n",
        "\n",
        "# Multilevel\n",
        "class E(D):\n",
        "    def methodE(self):\n",
        "        print(\"Method E from class E\")\n",
        "\n",
        "print(\"Multilevel Inheritance:\")\n",
        "e = E()\n",
        "e.methodA()\n",
        "e.methodB()\n",
        "e.methodC()\n",
        "e.methodD()\n",
        "e.methodE()\n",
        "\n",
        "\n",
        "# Hierarchical\n",
        "class F(A):\n",
        "    def methodF(self):\n",
        "        print(\"Method F from class F\")\n",
        "\n",
        "class G(A):\n",
        "    def method_g(self):\n",
        "        print(\"Method G from class G\")\n",
        "\n",
        "\n",
        "\n",
        "print(\"Hierarchical Inheritance:\")\n",
        "f = F()\n",
        "f.methodA()\n",
        "f.methodF()\n"
      ]
    },
    {
      "cell_type": "markdown",
      "metadata": {
        "id": "9mqGs3BuUPW0"
      },
      "source": [
        "### 16) Create a Person class with a constructor that takes two arguments name and age.\n",
        "### Create a child class Employee that inherits from Person and adds a new attribute salary.\n",
        "### Override the __init__ method in Employee to call the parent class's __init__ method using the super() and then initialize the salary attribute."
      ]
    },
    {
      "cell_type": "code",
      "execution_count": null,
      "metadata": {
        "id": "252EebTCUPW0",
        "colab": {
          "base_uri": "https://localhost:8080/"
        },
        "outputId": "2ffab257-3076-49ee-b830-e1758a91369a"
      },
      "outputs": [
        {
          "output_type": "stream",
          "name": "stdout",
          "text": [
            "Name:  Umang\n",
            "Age:  19\n",
            "Salary:  100000\n"
          ]
        }
      ],
      "source": [
        "class Person:\n",
        "  def __init__(self, name, age):\n",
        "    self.Name = name\n",
        "    self.Age = age\n",
        "\n",
        "class Employee(Person):\n",
        "  def __init__(self, name, age, salary):\n",
        "    super().__init__(name, age)\n",
        "    self.Salary = salary\n",
        "\n",
        "  def display(self):\n",
        "    print(\"Name: \", self.Name)\n",
        "    print(\"Age: \", self.Age)\n",
        "    print(\"Salary: \", self.Salary)\n",
        "\n",
        "e1 = Employee(\"Umang\", 19, 100000)\n",
        "e1.display()"
      ]
    },
    {
      "cell_type": "markdown",
      "metadata": {
        "id": "yHwmvXtEUPW0"
      },
      "source": [
        "### 17) Create a Shape class with a draw method that is not implemented.\n",
        "### Create three child classes Rectangle, Circle, and Triangle that implement the draw method with their respective drawing behaviors.\n",
        "### Create a list of Shape objects that includes one instance of each child class, and then iterate through the list and call the draw method on each object."
      ]
    },
    {
      "cell_type": "code",
      "execution_count": null,
      "metadata": {
        "id": "d23-7ZApUPW0",
        "colab": {
          "base_uri": "https://localhost:8080/"
        },
        "outputId": "e26bc99b-142b-48d0-caa8-9801ecbeaa79"
      },
      "outputs": [
        {
          "output_type": "stream",
          "name": "stdout",
          "text": [
            "This is Rectangle\n",
            "This is Circle\n",
            "This is Triangle\n"
          ]
        }
      ],
      "source": [
        "from abc import abstractclassmethod\n",
        "\n",
        "class Shape:\n",
        "  @abstractclassmethod\n",
        "  def draw(self):\n",
        "    pass\n",
        "\n",
        "class Rectangle(Shape):\n",
        "  def draw(self):\n",
        "    print(\"This is Rectangle\")\n",
        "\n",
        "class Circle(Shape):\n",
        "  def draw(self):\n",
        "    print(\"This is Circle\")\n",
        "\n",
        "class Triangle(Shape):\n",
        "  def draw(self):\n",
        "    print(\"This is Triangle\")\n",
        "\n",
        "shapelist = [Rectangle(), Circle(), Triangle()]\n",
        "for shape in shapelist:\n",
        "  shape.draw()\n"
      ]
    }
  ],
  "metadata": {
    "kernelspec": {
      "display_name": "Python 3 (ipykernel)",
      "language": "python",
      "name": "python3"
    },
    "language_info": {
      "codemirror_mode": {
        "name": "ipython",
        "version": 3
      },
      "file_extension": ".py",
      "mimetype": "text/x-python",
      "name": "python",
      "nbconvert_exporter": "python",
      "pygments_lexer": "ipython3",
      "version": "3.12.7"
    },
    "colab": {
      "provenance": []
    }
  },
  "nbformat": 4,
  "nbformat_minor": 0
}