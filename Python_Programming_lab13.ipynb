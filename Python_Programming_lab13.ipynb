{
 "cells": [
  {
   "cell_type": "markdown",
   "metadata": {},
   "source": [
    "<a href='https://www.darshan.ac.in/'> <img src='https://www.darshan.ac.in/Content/media/DU_Logo.svg' width=\"250\" height=\"300\"/></a>\n",
    "<pre>\n",
    "<center><b><h1>Python Programming - 2301CS404</b></center>\n",
    "<center><b><h1>Lab - 13</b></center>    \n",
    "<pre>"
   ]
  },
  {
   "cell_type": "markdown",
   "metadata": {},
   "source": [
    "# OOP"
   ]
  },
  {
   "cell_type": "markdown",
   "metadata": {},
   "source": [
    "### 01) Write a Program to create a class by name Students, and initialize attributes like name, age, and grade while creating an object."
   ]
  },
  {
   "cell_type": "code",
   "execution_count": 5,
   "metadata": {},
   "outputs": [
    {
     "name": "stdout",
     "output_type": "stream",
     "text": [
      "Student Name:  Umang\n",
      "Student Age:  20\n",
      "Student Grade:  A\n"
     ]
    }
   ],
   "source": [
    "class Student:\n",
    "    def __init__(self, name, age, grade):\n",
    "        self.StudentName = name\n",
    "        self.StudentAge = age\n",
    "        self.StudentGrade = grade\n",
    "\n",
    "    def displayStudent(self):\n",
    "        print(\"Student Name: \", self.StudentName)\n",
    "        print(\"Student Age: \", self.StudentAge)\n",
    "        print(\"Student Grade: \", self.StudentGrade)\n",
    "\n",
    "s1 = Student(\"Umang\", 20, 'A')\n",
    "s1.displayStudent()"
   ]
  },
  {
   "cell_type": "markdown",
   "metadata": {},
   "source": [
    "### 02) Create a class named Bank_Account with Account_No, User_Name, Email,Account_Type and Account_Balance data members. Also create a method GetAccountDetails() and DisplayAccountDetails(). Create main method to demonstrate the Bank_Account class."
   ]
  },
  {
   "cell_type": "code",
   "execution_count": 7,
   "metadata": {},
   "outputs": [
    {
     "name": "stdout",
     "output_type": "stream",
     "text": [
      "Enter Your Account_No:  101\n",
      "Enter Your Username:  Umang\n",
      "Enter Your Email:  umang@example.com\n",
      "Enter Account Type:  saving\n",
      "Enter Account Balance:  10000000\n"
     ]
    },
    {
     "name": "stdout",
     "output_type": "stream",
     "text": [
      "\n",
      "Account Details\n",
      "\n",
      "Account Number: 101\n",
      "User Name: Umang\n",
      "Email: umang@example.com\n",
      "Account Type: saving\n",
      "Account Balance: 10000000.0\n"
     ]
    }
   ],
   "source": [
    "class Bank_Account:\n",
    "    def __init__(self, accountNo, userName, email, accountType, accountBalance):\n",
    "        self.AccountNo = accountNo\n",
    "        self.UserName = userName\n",
    "        self.Email = email\n",
    "        self.AccountType = accountType\n",
    "        self.AccountBalance = accountBalance\n",
    "\n",
    "    def GetAccountDetails(self):\n",
    "        self.AccountNo = input(\"Enter Your Account_No: \")\n",
    "        self.UserName = input(\"Enter Your Username: \")\n",
    "        self.Email = input(\"Enter Your Email: \")\n",
    "        self.AccountType = input(\"Enter Account Type: \")\n",
    "        self.AccountBalance = float(input(\"Enter Account Balance: \"))\n",
    "\n",
    "    def DisplayAccountDetails(self):\n",
    "        print(\"\\nAccount Details\\n\")\n",
    "        print(f\"Account Number: {self.AccountNo}\")\n",
    "        print(f\"User Name: {self.UserName}\")\n",
    "        print(f\"Email: {self.Email}\")\n",
    "        print(f\"Account Type: {self.AccountType}\")\n",
    "        print(f\"Account Balance: {self.AccountBalance}\")\n",
    "\n",
    "def main():\n",
    "    account = Bank_Account(\"\", \"\", \"\", \"\", 0.0)\n",
    "    account.GetAccountDetails()\n",
    "    account.DisplayAccountDetails()\n",
    "\n",
    "main()"
   ]
  },
  {
   "cell_type": "markdown",
   "metadata": {},
   "source": [
    "### 03) WAP to create Circle class with area and perimeter function to find area and perimeter of circle."
   ]
  },
  {
   "cell_type": "code",
   "execution_count": 10,
   "metadata": {},
   "outputs": [
    {
     "name": "stdout",
     "output_type": "stream",
     "text": [
      "Area of Circle is: 314.1592653589793\n",
      "Perimeter of Circle is: 62.83185307179586\n"
     ]
    }
   ],
   "source": [
    "import math as m\n",
    "\n",
    "class Circle:\n",
    "    def __init__(self, r):\n",
    "        self.radius = r\n",
    "\n",
    "    def areaOfCircle(self):\n",
    "        ans = m.pi * self.radius * self.radius\n",
    "        print(f\"Area of Circle is: {ans}\")\n",
    "\n",
    "    def perimeterOfCircle(self):\n",
    "        ans = 2 * m.pi * self.radius\n",
    "        print(f\"Perimeter of Circle is: {ans}\")\n",
    "\n",
    "c1 = Circle(10)\n",
    "c1.areaOfCircle()\n",
    "c1.perimeterOfCircle();\n",
    "        "
   ]
  },
  {
   "cell_type": "markdown",
   "metadata": {},
   "source": [
    "### 04) Create a class for employees that includes attributes such as name, age, salary, and methods to update and display employee information."
   ]
  },
  {
   "cell_type": "code",
   "execution_count": 17,
   "metadata": {},
   "outputs": [
    {
     "name": "stdout",
     "output_type": "stream",
     "text": [
      "\n",
      "Employee Details\n",
      "\n",
      "Name: Krushant\n",
      "Age: 18\n",
      "Salary: 100000\n",
      "\n",
      "Employee Details\n",
      "\n",
      "Name: Umang\n",
      "Age: 20\n",
      "Salary: 200000\n"
     ]
    }
   ],
   "source": [
    "class Employees:\n",
    "    def __init__(self, name, age, salary):\n",
    "        self.Name = name\n",
    "        self.Age = age\n",
    "        self.Salary = salary\n",
    "\n",
    "    def employeeUpdate(self, name = \"\", age = \"\", salary = \"\"):\n",
    "        if name:\n",
    "            self.Name = name\n",
    "        if age:\n",
    "            self.Age = age\n",
    "        if salary:\n",
    "            self.Salary = salary\n",
    "\n",
    "    def displayEmployee(self):\n",
    "        print(\"\\nEmployee Details\\n\")\n",
    "        print(f\"Name: {self.Name}\")\n",
    "        print(f\"Age: {self.Age}\")\n",
    "        print(f\"Salary: {self.Salary}\")\n",
    "\n",
    "e1 = Employees(\"Krushant\", 18, 100000)\n",
    "e1.displayEmployee()\n",
    "e1.employeeUpdate(\"Umang\", 20, 200000)\n",
    "e1.displayEmployee()"
   ]
  },
  {
   "cell_type": "markdown",
   "metadata": {},
   "source": [
    "### 05) Create a bank account class with methods to deposit, withdraw, and check balance."
   ]
  },
  {
   "cell_type": "code",
   "execution_count": 25,
   "metadata": {},
   "outputs": [
    {
     "name": "stdout",
     "output_type": "stream",
     "text": [
      "\n",
      "Bank Details\n",
      "Name: Umang\n",
      "Account No: 101\n",
      "Balance: 1000\n",
      "\n"
     ]
    },
    {
     "name": "stdout",
     "output_type": "stream",
     "text": [
      "Enter Deposit Amount:  10000\n"
     ]
    },
    {
     "name": "stdout",
     "output_type": "stream",
     "text": [
      "Your Current Balance is: 11000.0\n"
     ]
    },
    {
     "name": "stdout",
     "output_type": "stream",
     "text": [
      "Enter Withdraw Amount:  1000\n"
     ]
    },
    {
     "name": "stdout",
     "output_type": "stream",
     "text": [
      "Your Current Balance is: 10000.0\n"
     ]
    }
   ],
   "source": [
    "class Bank:\n",
    "    def __init__(self, name, accountNo, balance = 1000):\n",
    "        self.Name = name\n",
    "        self.AccountNo = accountNo\n",
    "        self.Balance = balance\n",
    "\n",
    "    def displayCustomer(self):\n",
    "        print(\"\\nBank Details\")\n",
    "        print(f\"Name: {self.Name}\")\n",
    "        print(f\"Account No: {self.AccountNo}\")\n",
    "        print(f\"Balance: {self.Balance}\\n\")\n",
    "\n",
    "    def Deposit(self):\n",
    "        amount = float(input(\"Enter Deposit Amount: \"))\n",
    "        self.Balance += amount\n",
    "        print(f\"Your Current Balance is: {self.Balance}\")\n",
    "\n",
    "    def Withdraw(self):\n",
    "        amount = float(input(\"Enter Withdraw Amount: \"))\n",
    "        if(amount >= self.Balance):\n",
    "            print(f\"you do not have enough money in your account | Current Bal : {self.Balance}\")\n",
    "        else:\n",
    "            self.Balance -= amount\n",
    "            print(f\"Your Current Balance is: {self.Balance}\")\n",
    "\n",
    "b1 = Bank(\"Umang\", 101)\n",
    "b1.displayCustomer()\n",
    "b1.Deposit()\n",
    "b1.Withdraw()\n",
    "        "
   ]
  },
  {
   "cell_type": "markdown",
   "metadata": {},
   "source": [
    "### 06) Create a class for managing inventory that includes attributes such as item name, price, quantity, and methods to add, remove, and update items."
   ]
  },
  {
   "cell_type": "code",
   "execution_count": 31,
   "metadata": {},
   "outputs": [
    {
     "name": "stdout",
     "output_type": "stream",
     "text": [
      "Item: Laptop, Price: 50000, Quantity: 10\n",
      "Item: Laptop, Price: 50000, Quantity: 15\n",
      "Item: Laptop, Price: 50000, Quantity: 12\n",
      "Item: Laptop, Price: 100000, Quantity: 12\n"
     ]
    }
   ],
   "source": [
    "class Inventory:\n",
    "    def __init__(self, name, price, quantity):\n",
    "        self.ItemName = name\n",
    "        self.Price = price\n",
    "        self.Quantity = quantity\n",
    "    \n",
    "    def addItems(self, q):\n",
    "        self.Quantity += q\n",
    "    \n",
    "    def removeItems(self, q):\n",
    "        if q <= self.Quantity:\n",
    "            self.Quantity -= q\n",
    "        else:\n",
    "            print(\"Not enough items in stock.\")\n",
    "    \n",
    "    def updatePrice(self, newPrice):\n",
    "        self.Price = newPrice\n",
    "    \n",
    "    def displayDetails(self):\n",
    "        print(f\"Item: {self.ItemName}, Price: {self.Price}, Quantity: {self.Quantity}\")\n",
    "\n",
    "i1 = Inventory(\"Laptop\", 50000, 10)\n",
    "i1.displayDetails()\n",
    "i1.addItems(5)\n",
    "i1.displayDetails()\n",
    "i1.removeItems(3)\n",
    "i1.displayDetails()\n",
    "i1.updatePrice(100000)\n",
    "i1.displayDetails()"
   ]
  },
  {
   "cell_type": "markdown",
   "metadata": {},
   "source": [
    "### 07) Create a Class with instance attributes of your choice."
   ]
  },
  {
   "cell_type": "code",
   "execution_count": 33,
   "metadata": {},
   "outputs": [
    {
     "name": "stdout",
     "output_type": "stream",
     "text": [
      "Brand: BMW, Model: M5-compition, Year: 2023\n",
      "Brand: BMW, Model: M5-compition, Year: 2022\n",
      "Brand: BMW, Model: M4-compition, Year: 2022\n"
     ]
    }
   ],
   "source": [
    "class Car:\n",
    "    def __init__(self, brand, model, year):\n",
    "        self.Brand = brand\n",
    "        self.Model = model\n",
    "        self.Year = year\n",
    "    \n",
    "    def updateYear(self, newYear):\n",
    "        self.Year = newYear\n",
    "    \n",
    "    def changeModel(self, newModel):\n",
    "        self.Model = newModel\n",
    "    \n",
    "    def displayInfo(self):\n",
    "        print(f\"Brand: {self.Brand}, Model: {self.Model}, Year: {self.Year}\")\n",
    "\n",
    "c1 = Car(\"BMW\", \"M5-compition\", 2023)\n",
    "c1.displayInfo()\n",
    "c1.updateYear(2022)\n",
    "c1.displayInfo()\n",
    "c1.changeModel(\"M4-compition\")\n",
    "c1.displayInfo()\n"
   ]
  },
  {
   "cell_type": "markdown",
   "metadata": {},
   "source": [
    "### 08) Create one class student_kit\n",
    "#### Within the student_kit class create one class attribute principal name ( Mr ABC )\n",
    "#### Create one attendance method and take input as number of days.\n",
    "#### While creating student take input their name .\n",
    "#### Create one certificate for each student by taking input of number of days present in class."
   ]
  },
  {
   "cell_type": "code",
   "execution_count": 34,
   "metadata": {},
   "outputs": [
    {
     "name": "stdout",
     "output_type": "stream",
     "text": [
      "Enter Student Name:  Umang\n",
      "Enter Number of Days Present:  10\n"
     ]
    },
    {
     "name": "stdout",
     "output_type": "stream",
     "text": [
      "\n",
      "Certificate of Attendance\n",
      "Principal: Mr ABC\n",
      "Student Name: Umang\n",
      "Days Present: 10\n",
      "Congratulations on your attendance!\n"
     ]
    }
   ],
   "source": [
    "class StudentKit:\n",
    "    PrincipalName = \"Mr ABC\"\n",
    "    \n",
    "    def __init__(self, studentName):\n",
    "        self.StudentName = studentName\n",
    "        self.AttendanceDays = 0\n",
    "    \n",
    "    def markAttendance(self, d):\n",
    "        self.AttendanceDays = d\n",
    "    \n",
    "    def generateCertificate(self):\n",
    "        print(\"\\nCertificate of Attendance\")\n",
    "        print(f\"Principal: {StudentKit.PrincipalName}\")\n",
    "        print(f\"Student Name: {self.StudentName}\")\n",
    "        print(f\"Days Present: {self.AttendanceDays}\")\n",
    "        print(\"Congratulations on your attendance!\")\n",
    "\n",
    "name = input(\"Enter Student Name: \")\n",
    "student = StudentKit(name)\n",
    "present = int(input(\"Enter Number of Days Present: \"))\n",
    "student.markAttendance(present)\n",
    "student.generateCertificate()\n"
   ]
  },
  {
   "cell_type": "markdown",
   "metadata": {},
   "source": [
    "### 09) Define Time class with hour and minute as data member. Also define addition method to add two time objects."
   ]
  },
  {
   "cell_type": "code",
   "execution_count": 35,
   "metadata": {},
   "outputs": [
    {
     "name": "stdout",
     "output_type": "stream",
     "text": [
      "Time: 4 hours and 20 minutes\n"
     ]
    }
   ],
   "source": [
    "class Time:\n",
    "    def __init__(self, hour, minute):\n",
    "        self.hour = hour\n",
    "        self.minute = minute\n",
    "    \n",
    "    def addTime(self, other):\n",
    "        total_minutes = self.minute + other.minute\n",
    "        extra_hour = total_minutes // 60\n",
    "        final_minutes = total_minutes % 60\n",
    "        final_hour = self.hour + other.hour + extra_hour\n",
    "        return Time(final_hour, final_minutes)\n",
    "    \n",
    "    def displayTime(self):\n",
    "        print(f\"Time: {self.hour} hours and {self.minute} minutes\")\n",
    "\n",
    "time1 = Time(2, 50)\n",
    "time2 = Time(1, 30)\n",
    "time3 = time1.addTime(time2)\n",
    "time3.displayTime()\n"
   ]
  },
  {
   "cell_type": "code",
   "execution_count": null,
   "metadata": {},
   "outputs": [],
   "source": []
  }
 ],
 "metadata": {
  "kernelspec": {
   "display_name": "Python 3 (ipykernel)",
   "language": "python",
   "name": "python3"
  },
  "language_info": {
   "codemirror_mode": {
    "name": "ipython",
    "version": 3
   },
   "file_extension": ".py",
   "mimetype": "text/x-python",
   "name": "python",
   "nbconvert_exporter": "python",
   "pygments_lexer": "ipython3",
   "version": "3.13.1"
  }
 },
 "nbformat": 4,
 "nbformat_minor": 4
}
